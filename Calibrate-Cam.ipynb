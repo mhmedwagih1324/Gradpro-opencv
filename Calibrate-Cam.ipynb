{
 "cells": [
  {
   "cell_type": "code",
   "execution_count": null,
   "metadata": {},
   "outputs": [],
   "source": [
    "import numpy as np\n",
    "import cv2 as cv\n",
    "import glob\n",
    "import os"
   ]
  },
  {
   "cell_type": "code",
   "execution_count": null,
   "metadata": {},
   "outputs": [],
   "source": [
    "#change the path with the path to pictures of the 1st mobile\n",
    "%cd \"path\""
   ]
  },
  {
   "cell_type": "code",
   "execution_count": null,
   "metadata": {},
   "outputs": [],
   "source": [
    "# run this to check a picture\n",
    "# takes about 5 mins in execution\n",
    "#------------------------------------------------------------------------\n",
    "# termination criteria\n",
    "criteria = (cv.TERM_CRITERIA_EPS + cv.TERM_CRITERIA_MAX_ITER, 30, 0.001)\n",
    "# prepare object points, like (0,0,0), (1,0,0), (2,0,0) ....,(6,5,0)\n",
    "objp = np.zeros((9*6,3), np.float32)\n",
    "objp[:,:2] = np.mgrid[0:9,0:6].T.reshape(-1,2)\n",
    "# Arrays to store object points and image points from all the images.\n",
    "objpoints = [] # 3d point in real world space\n",
    "imgpoints = [] # 2d points in image plane.\n",
    "images = glob.glob('*.jpg')\n",
    "#print(os.listdir())\n",
    "fname = images[0]\n",
    "img = cv.imread(fname)\n",
    "gray = cv.cvtColor(img, cv.COLOR_BGR2GRAY)\n",
    "# Find the chess board corners\n",
    "ret, corners = cv.findChessboardCorners(gray, (9,6), None)\n",
    "# If found, add object points, image points (after refining them)\n",
    "if ret == True:\n",
    "    objpoints.append(objp)\n",
    "    corners2 = cv.cornerSubPix(gray,corners, (11,11), (-1,-1), criteria)\n",
    "    imgpoints.append(corners)\n",
    "    # Draw and display the corners\n",
    "    cv.drawChessboardCorners(img, (9,6), corners2, ret)\n",
    "    cv.imwrite('abc.png', img)                                         #the name of the output image after drawing some lines on it\n",
    "    print(\"I finished\")"
   ]
  },
  {
   "cell_type": "code",
   "execution_count": null,
   "metadata": {},
   "outputs": [],
   "source": [
    "# Actual processing\n",
    "# takes more than one hour in execution            Run it and do some thing else\n",
    "#------------------------------------------------------------------------\n",
    "# termination criteria\n",
    "criteria = (cv.TERM_CRITERIA_EPS + cv.TERM_CRITERIA_MAX_ITER, 30, 0.001)\n",
    "# prepare object points, like (0,0,0), (1,0,0), (2,0,0) ....,(6,5,0)\n",
    "objp = np.zeros((9*6,3), np.float32)\n",
    "objp[:,:2] = np.mgrid[0:9,0:6].T.reshape(-1,2)\n",
    "# Arrays to store object points and image points from all the images.\n",
    "objpoints = [] # 3d point in real world space\n",
    "imgpoints = [] # 2d points in image plane.\n",
    "images = glob.glob('*.jpg')\n",
    "for fname in images:\n",
    "    img = cv.imread(fname)\n",
    "    gray = cv.cvtColor(img, cv.COLOR_BGR2GRAY)\n",
    "    # Find the chess board corners\n",
    "    ret, corners = cv.findChessboardCorners(gray, (9,6), None)\n",
    "    # If found, add object points, image points (after refining them)\n",
    "    if ret == True:\n",
    "        objpoints.append(objp)\n",
    "        imgpoints.append(corners)\n",
    "        #---------------------------------------------------------\n",
    "        \"\"\"\n",
    "        # reomved for faster processing\n",
    "        # Draw and display the corners\n",
    "        corners2 = cv.cornerSubPix(gray,corners, (11,11), (-1,-1), criteria)\n",
    "        cv.drawChessboardCorners(img, (9,6), corners2, ret)\n",
    "        cv.imshow('img', img) \n",
    "        cv.waitKey(500)\n",
    "        \"\"\"\n",
    "cv.destroyAllWindows()\n",
    "# the output of the above code is objpoints & imgpoints\n",
    "ret, mtx, dist, rvecs, tvecs = cv.calibrateCamera(objpoints, imgpoints, gray.shape[::-1], None, None)\n",
    "#-----------------------------------------------------------------------------------------\n",
    "# save the output data in a file\n",
    "fil = open(\"cam1.txt\", \"a\")\n",
    "fil.write(\"ret is \" + str(ret) + \"\\n\\n\\n\")\n",
    "fil.write(\"mtx is \" + str(mtx) + \"\\n\\n\\n\")\n",
    "fil.write(\"dist is \" + str(dist) + \"\\n\\n\\n\")\n",
    "fil.write(\"rvecs is \" + str(rvecs) + \"\\n\\n\\n\")\n",
    "fil.write(\"tvecs is \" + str(tvecs) + \"\\n\\n\\n\")\n",
    "fil.close()\n",
    "# We are done\n",
    "print(\"Mission Done!\")"
   ]
  },
  {
   "cell_type": "code",
   "execution_count": null,
   "metadata": {},
   "outputs": [],
   "source": [
    "#change the path with the path to pictures of the 2nd mobile\n",
    "%cd \"path\""
   ]
  },
  {
   "cell_type": "code",
   "execution_count": null,
   "metadata": {},
   "outputs": [],
   "source": [
    "# Actual processing\n",
    "# takes more than one hour in execution            Run it and do some thing else\n",
    "#------------------------------------------------------------------------\n",
    "# termination criteria\n",
    "criteria = (cv.TERM_CRITERIA_EPS + cv.TERM_CRITERIA_MAX_ITER, 30, 0.001)\n",
    "# prepare object points, like (0,0,0), (1,0,0), (2,0,0) ....,(6,5,0)\n",
    "objp = np.zeros((9*6,3), np.float32)\n",
    "objp[:,:2] = np.mgrid[0:9,0:6].T.reshape(-1,2)\n",
    "# Arrays to store object points and image points from all the images.\n",
    "objpoints = [] # 3d point in real world space\n",
    "imgpoints = [] # 2d points in image plane.\n",
    "images = glob.glob('*.jpg')\n",
    "for fname in images:\n",
    "    img = cv.imread(fname)\n",
    "    gray = cv.cvtColor(img, cv.COLOR_BGR2GRAY)\n",
    "    # Find the chess board corners\n",
    "    ret, corners = cv.findChessboardCorners(gray, (9,6), None)\n",
    "    # If found, add object points, image points (after refining them)\n",
    "    if ret == True:\n",
    "        objpoints.append(objp)\n",
    "        imgpoints.append(corners)\n",
    "        #---------------------------------------------------------\n",
    "        \"\"\"\n",
    "        # reomved for faster processing\n",
    "        # Draw and display the corners\n",
    "        corners2 = cv.cornerSubPix(gray,corners, (11,11), (-1,-1), criteria)\n",
    "        cv.drawChessboardCorners(img, (9,6), corners2, ret)\n",
    "        cv.imshow('img', img) \n",
    "        cv.waitKey(500)\n",
    "        \"\"\"\n",
    "cv.destroyAllWindows()\n",
    "# the output of the above code is objpoints & imgpoints\n",
    "ret, mtx, dist, rvecs, tvecs = cv.calibrateCamera(objpoints, imgpoints, gray.shape[::-1], None, None)\n",
    "#-----------------------------------------------------------------------------------------\n",
    "# save the output data in a file\n",
    "fil = open(\"cam2.txt\", \"a\")\n",
    "fil.write(\"ret is \" + str(ret) + \"\\n\\n\\n\")\n",
    "fil.write(\"mtx is \" + str(mtx) + \"\\n\\n\\n\")\n",
    "fil.write(\"dist is \" + str(dist) + \"\\n\\n\\n\")\n",
    "fil.write(\"rvecs is \" + str(rvecs) + \"\\n\\n\\n\")\n",
    "fil.write(\"tvecs is \" + str(tvecs) + \"\\n\\n\\n\")\n",
    "fil.close()\n",
    "# We are done\n",
    "print(\"Mission Done!\")"
   ]
  },
  {
   "cell_type": "code",
   "execution_count": null,
   "metadata": {},
   "outputs": [],
   "source": [
    "# After running all the above codes you can find 2 new files named cam1.txt and cam2.txt\n",
    "# both have the values of each camera intrensic parameters"
   ]
  },
  {
   "cell_type": "code",
   "execution_count": null,
   "metadata": {},
   "outputs": [],
   "source": []
  }
 ],
 "metadata": {
  "kernelspec": {
   "display_name": "Python 3",
   "language": "python",
   "name": "python3"
  },
  "language_info": {
   "codemirror_mode": {
    "name": "ipython",
    "version": 3
   },
   "file_extension": ".py",
   "mimetype": "text/x-python",
   "name": "python",
   "nbconvert_exporter": "python",
   "pygments_lexer": "ipython3",
   "version": "3.8.2"
  }
 },
 "nbformat": 4,
 "nbformat_minor": 4
}
