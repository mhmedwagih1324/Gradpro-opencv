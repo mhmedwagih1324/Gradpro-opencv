{
 "cells": [
  {
   "cell_type": "code",
   "execution_count": 5,
   "metadata": {},
   "outputs": [],
   "source": [
    "import cv2 as cv\n",
    "import numpy as np\n",
    "import os\n",
    "import glob\n",
    "import re"
   ]
  },
  {
   "cell_type": "code",
   "execution_count": 46,
   "metadata": {},
   "outputs": [
    {
     "name": "stdout",
     "output_type": "stream",
     "text": [
      "3.4.2\n"
     ]
    }
   ],
   "source": [
    "# Run this to make sure you have opencv installed\n",
    "print(cv.__version__)"
   ]
  },
  {
   "cell_type": "code",
   "execution_count": 7,
   "metadata": {},
   "outputs": [
    {
     "name": "stdout",
     "output_type": "stream",
     "text": [
      "C:\\Users\\Ahmed Wagih\\Desktop\\wedTry\\calib\n",
      "s -> s7\\20200417_220252.jpg\n",
      "j -> j8\\20200417_220255.jpg\n",
      "s -> s7\\20200417_220303.jpg\n",
      "j -> j8\\20200417_220305.jpg\n",
      "True\n",
      "-----------------------------------------------------------------------------------\n",
      "s -> s7\\20200417_220314.jpg\n",
      "j -> j8\\20200417_220316.jpg\n",
      "s -> s7\\20200417_220335.jpg\n",
      "j -> j8\\20200417_220337.jpg\n",
      "s -> s7\\20200417_220345.jpg\n",
      "j -> j8\\20200417_220347.jpg\n",
      "s -> s7\\20200417_220356.jpg\n",
      "j -> j8\\20200417_220358.jpg\n",
      "True\n",
      "-----------------------------------------------------------------------------------\n",
      "s -> s7\\20200417_220413.jpg\n",
      "j -> j8\\20200417_220416.jpg\n",
      "s -> s7\\20200417_220428.jpg\n",
      "j -> j8\\20200417_220429.jpg\n",
      "True\n",
      "-----------------------------------------------------------------------------------\n",
      "s -> s7\\20200417_220442.jpg\n",
      "j -> j8\\20200417_220444.jpg\n",
      "s -> s7\\20200417_220458.jpg\n",
      "j -> j8\\20200417_220500.jpg\n",
      "True\n",
      "-----------------------------------------------------------------------------------\n",
      "s -> s7\\20200417_220522.jpg\n",
      "j -> j8\\20200417_220523.jpg\n",
      "True\n",
      "-----------------------------------------------------------------------------------\n",
      "s -> s7\\20200417_220536.jpg\n",
      "j -> j8\\20200417_220538.jpg\n",
      "s -> s7\\20200417_220545.jpg\n",
      "j -> j8\\20200417_220547.jpg\n",
      "True\n",
      "-----------------------------------------------------------------------------------\n",
      "s -> s7\\20200417_220555.jpg\n",
      "j -> j8\\20200417_220556.jpg\n",
      "s -> s7\\20200417_220626.jpg\n",
      "j -> j8\\20200417_220627.jpg\n",
      "s -> s7\\20200417_220636.jpg\n",
      "j -> j8\\20200417_220638.jpg\n",
      "s -> s7\\20200417_220657.jpg\n",
      "j -> j8\\20200417_220658.jpg\n"
     ]
    }
   ],
   "source": [
    "# This block finds object points and image points in both camera images, these are needed for cv.stereoCalibrate()\n",
    "#-------------------------------------------------------------------------------------\n",
    "# termination criteria\n",
    "criteria = (cv.TERM_CRITERIA_EPS + cv.TERM_CRITERIA_MAX_ITER, 30, 0.001)\n",
    "# prepare object points, like (0,0,0), (1,0,0), (2,0,0) ....,(6,5,0)\n",
    "objp = np.zeros((9*6,3), np.float32)\n",
    "objp[:,:2] = np.mgrid[0:9,0:6].T.reshape(-1,2)\n",
    "# Arrays to store object points and image points from all the images.\n",
    "objpoints = [] # 3d point in real world space\n",
    "imgpointss = [] # 2d points in image plane.\n",
    "imgpointsj = [] # 2d points in image plane.\n",
    "# Change the directory to a folder that have two folders(each folder should have images fo a camera)\n",
    "%cd \"C:\\Users\\Ahmed Wagih\\Desktop\\wedTry\\calib\"\n",
    "# change \"s7\" and \"j8\" to be the names of the folders that contain images of each camera\n",
    "imagess = glob.glob(\"s7\\*.jpg\")\n",
    "imagesj = glob.glob(\"j8\\*.jpg\")\n",
    "# two arrays to hold the names of good pictures from both Cams\n",
    "fnamesAr = [] # file names of s that are true\n",
    "fnamejAr = [] # file names of j that are true\n",
    "# loop on each image\n",
    "for (fnames, fnamej) in zip(imagess, imagesj):\n",
    "    print(\"s -> \"+ fnames)\n",
    "    print(\"j -> \"+ fnamej)\n",
    "    # Read images\n",
    "    imgss = cv.imread(fnames)\n",
    "    imgsj = cv.imread(fnamej)\n",
    "    # convert to gray\n",
    "    grays = cv.cvtColor(imgss, cv.COLOR_BGR2GRAY)\n",
    "    grayj = cv.cvtColor(imgsj, cv.COLOR_BGR2GRAY)\n",
    "    # Find the chess board corners\n",
    "    rets, cornerss = cv.findChessboardCorners(grays, (9,6), None)\n",
    "    retj, cornersj = cv.findChessboardCorners(grayj, (9,6), None)\n",
    "    # If found, add object points, image points (after refining them)\n",
    "    if rets == True and retj == True:\n",
    "        print(\"True\")\n",
    "        fnamesAr.append(fnames)\n",
    "        fnamejAr.append(fnamej)\n",
    "        objpoints.append(objp)\n",
    "        imgpointss.append(cornerss)\n",
    "        imgpointsj.append(cornersj)\n",
    "        print(\"-----------------------------------------------------------------------------------\")\n",
    "cv.destroyAllWindows()"
   ]
  },
  {
   "cell_type": "code",
   "execution_count": 8,
   "metadata": {},
   "outputs": [],
   "source": [
    "# save the output data in a file\n",
    "fil = open(\"stereoImagesData.txt\", \"a\")\n",
    "fil.write(\"fnamesAr is -\" + str(fnamesAr) + \"-\\n\\n\\n\")\n",
    "fil.write(\"fnamejAr is -\" + str(fnamejAr) + \"-\\n\\n\\n\")\n",
    "fil.write(\"objpoints is -\" + str(objpoints) + \"-\\n\\n\\n\")\n",
    "fil.write(\"imgpointss is -\" + str(imgpointss) + \"-\\n\\n\\n\")\n",
    "fil.write(\"imgpointsj is -\" + str(imgpointsj) + \"-\\n\\n\\n\")\n",
    "fil.close()"
   ]
  },
  {
   "cell_type": "code",
   "execution_count": 4,
   "metadata": {},
   "outputs": [
    {
     "name": "stdout",
     "output_type": "stream",
     "text": [
      "None\n"
     ]
    },
    {
     "data": {
      "text/plain": [
       "\"\\nfnamesAr = ['s7\\\\20200417_220303.jpg', 's7\\\\20200417_220356.jpg', 's7\\\\20200417_220428.jpg', 's7\\\\20200417_220458.jpg', 's7\\\\20200417_220522.jpg', 's7\\\\20200417_220545.jpg']\\n\\nfnamejAr = ['j8\\\\20200417_220305.jpg', 'j8\\\\20200417_220358.jpg', 'j8\\\\20200417_220429.jpg', 'j8\\\\20200417_220500.jpg', 'j8\\\\20200417_220523.jpg', 'j8\\\\20200417_220547.jpg']\\nobjpoints = \\nimgpointss = \\nimgpointsj = \\n\""
      ]
     },
     "execution_count": 4,
     "metadata": {},
     "output_type": "execute_result"
    }
   ],
   "source": [
    "file = open(\"stereoImagesData.txt\", \"r\")\n",
    "data = file.read()\n",
    "rx = re.compile(r'objpoints is (.*)\\n\\n\\n')\n",
    "match = rx.search(data)\n",
    "print(match)\n",
    "file.close()\n",
    "'''\n",
    "fnamesAr = ['s7\\\\20200417_220303.jpg', 's7\\\\20200417_220356.jpg', 's7\\\\20200417_220428.jpg', 's7\\\\20200417_220458.jpg', 's7\\\\20200417_220522.jpg', 's7\\\\20200417_220545.jpg']\n",
    "\n",
    "fnamejAr = ['j8\\\\20200417_220305.jpg', 'j8\\\\20200417_220358.jpg', 'j8\\\\20200417_220429.jpg', 'j8\\\\20200417_220500.jpg', 'j8\\\\20200417_220523.jpg', 'j8\\\\20200417_220547.jpg']\n",
    "objpoints = \n",
    "imgpointss = \n",
    "imgpointsj = \n",
    "'''"
   ]
  },
  {
   "cell_type": "code",
   "execution_count": 9,
   "metadata": {},
   "outputs": [],
   "source": [
    "# Data here can be retrieved from github file camera params, these were calculated previously using \"Calibrate-Cam.ipynb\"\n",
    "\n",
    "camMats = np.array([[2.80774228e+03, 0.00000000e+00, 2.10378410e+03],\n",
    "                    [0.00000000e+00, 2.80883263e+03, 1.62033177e+03],\n",
    "                    [0.00000000e+00, 0.00000000e+00, 1.00000000e+00]])\n",
    "distCoeffss = np.array([[-0.12953256,  0.20065338,  0.00661181,  0.00732438,  0.09754305]])\n",
    "\n",
    "camMatj = np.array([[3.21633266e+03, 0.00000000e+00, 2.44700710e+03],\n",
    "            [0.00000000e+00, 3.21720389e+03, 1.69378545e+03],\n",
    "            [0.00000000e+00, 0.00000000e+00, 1.00000000e+00]])\n",
    "distCoeffsj = np.array([[ 0.07325807, -0.51734651,  0.00242078,  0.01843635,  0.68931158]])"
   ]
  },
  {
   "cell_type": "code",
   "execution_count": 10,
   "metadata": {},
   "outputs": [],
   "source": [
    "# Get the R & T of the stereo setup, these are needed for cv.stereoRectify()\n",
    "imageSize=(3024, 4032)\n",
    "retval, cameraMatrix1, distCoeffs1, cameraMatrix2, distCoeffs2, R, T, E, F = cv.stereoCalibrate(objectPoints=objpoints,\n",
    "                                        imagePoints1=imgpointss, imagePoints2=imgpointsj,\n",
    "                                        cameraMatrix1=camMats, distCoeffs1=distCoeffss,\n",
    "                                        cameraMatrix2=camMatj, distCoeffs2=distCoeffsj,\n",
    "                                        imageSize=imageSize, flags=cv.CALIB_FIX_INTRINSIC)"
   ]
  },
  {
   "cell_type": "code",
   "execution_count": 14,
   "metadata": {},
   "outputs": [],
   "source": [
    "# save the output data in a file\n",
    "fil = open(\"Intrinsic & extrinsic.txt\", \"w\")\n",
    "fil.write(\"retval : - \" + str(retval) + \" -\\n\\n\\n\")\n",
    "fil.write(\"cameraMatrix1 : - \" + str(cameraMatrix1) + \" -\\n\\n\\n\")\n",
    "fil.write(\"distCoeffs1 : - \" + str(distCoeffs1) + \" -\\n\\n\\n\")\n",
    "fil.write(\"cameraMatrix2 : - \" + str(cameraMatrix2) + \" -\\n\\n\\n\")\n",
    "fil.write(\"distCoeffs2 : - \" + str(distCoeffs2) + \" -\\n\\n\\n\")\n",
    "fil.write(\"R : - \" + str(R) + \" -\\n\\n\\n\")\n",
    "fil.write(\"T : - \" + str(T) + \" -\\n\\n\\n\")\n",
    "fil.write(\"E : - \" + str(E) + \" -\\n\\n\\n\")\n",
    "fil.write(\"F : - \" + str(F) + \" -\\n\\n\\n\")\n",
    "fil.close()"
   ]
  },
  {
   "cell_type": "code",
   "execution_count": 11,
   "metadata": {},
   "outputs": [],
   "source": [
    "# add comment here\n",
    "R1, R2, P1, P2, Q, validPixROI1, validPixROI2 = cv.stereoRectify(cameraMatrix1, distCoeffs1,\n",
    "                                                                 cameraMatrix2, distCoeffs2,\n",
    "                                                                 imageSize, R, T)"
   ]
  },
  {
   "cell_type": "code",
   "execution_count": 15,
   "metadata": {},
   "outputs": [],
   "source": [
    "# save the output data in a file\n",
    "fil = open(\"R1&2 and P1&2.txt\", \"w\")\n",
    "fil.write(\"R1 : - \" + str(R1) + \" -\\n\\n\\n\")\n",
    "fil.write(\"R2 : - \" + str(R2) + \" -\\n\\n\\n\")\n",
    "fil.write(\"P1 : - \" + str(P1) + \" -\\n\\n\\n\")\n",
    "fil.write(\"P2 : - \" + str(P2) + \" -\\n\\n\\n\")\n",
    "fil.write(\"Q : - \" + str(Q) + \" -\\n\\n\\n\")\n",
    "fil.write(\"validPixROI1 : - \" + str(validPixROI1) + \" -\\n\\n\\n\")\n",
    "fil.write(\"validPixROI2 : - \" + str(validPixROI2) + \" -\\n\\n\\n\")\n",
    "fil.close()"
   ]
  },
  {
   "cell_type": "code",
   "execution_count": 20,
   "metadata": {},
   "outputs": [],
   "source": [
    "map1s, map2s = cv.initUndistortRectifyMap(cameraMatrix1, distCoeffs1, R1, P1, imageSize, cv.CV_32FC1)\n",
    "map1j, map2j = cv.initUndistortRectifyMap(cameraMatrix2, distCoeffs2, R2, P2, imageSize, cv.CV_32FC1)"
   ]
  },
  {
   "cell_type": "code",
   "execution_count": 21,
   "metadata": {},
   "outputs": [],
   "source": [
    "# save the output data in a file\n",
    "fil = open(\"map1&2 for s and j.txt\", \"w\")\n",
    "fil.write(\"map1s : - \" + str(map1s) + \" -\\n\\n\\n\")\n",
    "fil.write(\"map2s : - \" + str(map2s) + \" -\\n\\n\\n\")\n",
    "fil.write(\"map1j : - \" + str(map1j) + \" -\\n\\n\\n\")\n",
    "fil.write(\"map2j : - \" + str(map2j) + \" -\\n\\n\\n\")\n",
    "fil.close()"
   ]
  },
  {
   "cell_type": "code",
   "execution_count": 32,
   "metadata": {},
   "outputs": [],
   "source": [
    "s7 = cv.imread(\"s7.jpg\")\n",
    "j8 = cv.imread(\"j8.jpg\")\n",
    "s7g = cv.cvtColor(s7, cv.COLOR_BGR2GRAY)\n",
    "j8g = cv.cvtColor(j8, cv.COLOR_BGR2GRAY)"
   ]
  },
  {
   "cell_type": "code",
   "execution_count": 33,
   "metadata": {},
   "outputs": [],
   "source": [
    "dsts = cv.remap(s7g, map1s, map2s, cv.INTER_LINEAR)\n",
    "dstj = cv.remap(j8g, map1j, map2j, cv.INTER_LINEAR)"
   ]
  },
  {
   "cell_type": "code",
   "execution_count": 39,
   "metadata": {},
   "outputs": [
    {
     "data": {
      "text/plain": [
       "True"
      ]
     },
     "execution_count": 39,
     "metadata": {},
     "output_type": "execute_result"
    }
   ],
   "source": [
    "cv.imwrite(\"rects7.jpg\", dsts)\n",
    "cv.imwrite(\"rectj8.jpg\", dstj)"
   ]
  },
  {
   "cell_type": "code",
   "execution_count": 43,
   "metadata": {},
   "outputs": [],
   "source": [
    "stereoObj = cv.StereoSGBM_create()#(minDisparity=16, numDisparities=32, blockSize=6)#, P1, P2,\n",
    "                            #  disp12MaxDiff, preFilterCap, uniquenessRatio, speckleWindowSize, speckleRange, mode)\n"
   ]
  },
  {
   "cell_type": "code",
   "execution_count": 44,
   "metadata": {},
   "outputs": [],
   "source": [
    "disp = stereoObj.compute(dsts, dstj)"
   ]
  },
  {
   "cell_type": "code",
   "execution_count": 45,
   "metadata": {},
   "outputs": [
    {
     "data": {
      "text/plain": [
       "True"
      ]
     },
     "execution_count": 45,
     "metadata": {},
     "output_type": "execute_result"
    }
   ],
   "source": [
    "cv.imwrite(\"disp.jpg\", disp)"
   ]
  },
  {
   "cell_type": "code",
   "execution_count": 50,
   "metadata": {},
   "outputs": [
    {
     "ename": "error",
     "evalue": "OpenCV(3.4.2) C:\\Miniconda3\\conda-bld\\opencv-suite_1534379934306\\work\\modules\\imgcodecs\\src\\loadsave.cpp:684: error: (-2:Unspecified error) could not find a writer for the specified extension in function 'cv::imwrite_'\n",
     "output_type": "error",
     "traceback": [
      "\u001b[1;31m---------------------------------------------------------------------------\u001b[0m",
      "\u001b[1;31merror\u001b[0m                                     Traceback (most recent call last)",
      "\u001b[1;32m<ipython-input-50-01135bae4812>\u001b[0m in \u001b[0;36m<module>\u001b[1;34m\u001b[0m\n\u001b[1;32m----> 1\u001b[1;33m \u001b[0mcv\u001b[0m\u001b[1;33m.\u001b[0m\u001b[0mimwrite\u001b[0m\u001b[1;33m(\u001b[0m\u001b[1;34m\"h.txt\"\u001b[0m\u001b[1;33m,\u001b[0m \u001b[0mdisp\u001b[0m\u001b[1;33m)\u001b[0m\u001b[1;33m\u001b[0m\u001b[1;33m\u001b[0m\u001b[0m\n\u001b[0m",
      "\u001b[1;31merror\u001b[0m: OpenCV(3.4.2) C:\\Miniconda3\\conda-bld\\opencv-suite_1534379934306\\work\\modules\\imgcodecs\\src\\loadsave.cpp:684: error: (-2:Unspecified error) could not find a writer for the specified extension in function 'cv::imwrite_'\n"
     ]
    }
   ],
   "source": [
    "cv.imwrite(\"h.txt\", disp)"
   ]
  },
  {
   "cell_type": "code",
   "execution_count": null,
   "metadata": {},
   "outputs": [],
   "source": []
  }
 ],
 "metadata": {
  "kernelspec": {
   "display_name": "Python 3",
   "language": "python",
   "name": "python3"
  },
  "language_info": {
   "codemirror_mode": {
    "name": "ipython",
    "version": 3
   },
   "file_extension": ".py",
   "mimetype": "text/x-python",
   "name": "python",
   "nbconvert_exporter": "python",
   "pygments_lexer": "ipython3",
   "version": "3.7.7"
  }
 },
 "nbformat": 4,
 "nbformat_minor": 4
}
