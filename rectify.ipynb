{
 "cells": [
  {
   "cell_type": "code",
   "execution_count": 2,
   "metadata": {},
   "outputs": [],
   "source": [
    "import cv2 as cv\n",
    "import numpy as np\n",
    "import os\n",
    "import glob"
   ]
  },
  {
   "cell_type": "code",
   "execution_count": 3,
   "metadata": {},
   "outputs": [
    {
     "name": "stdout",
     "output_type": "stream",
     "text": [
      "3.4.2\n"
     ]
    }
   ],
   "source": [
    "# Run this to make sure you have opencv installed\n",
    "print(cv.__version__)"
   ]
  },
  {
   "cell_type": "code",
   "execution_count": 4,
   "metadata": {},
   "outputs": [
    {
     "name": "stdout",
     "output_type": "stream",
     "text": [
      "C:\\Users\\Ahmed Wagih\\Desktop\\wedTry\\calib\n",
      "s -> s7\\20200417_220252.jpg\n",
      "j -> j8\\20200417_220255.jpg\n",
      "s -> s7\\20200417_220303.jpg\n",
      "j -> j8\\20200417_220305.jpg\n",
      "True\n",
      "-----------------------------------------------------------------------------------\n",
      "s -> s7\\20200417_220314.jpg\n",
      "j -> j8\\20200417_220316.jpg\n",
      "s -> s7\\20200417_220335.jpg\n",
      "j -> j8\\20200417_220337.jpg\n",
      "s -> s7\\20200417_220345.jpg\n",
      "j -> j8\\20200417_220347.jpg\n",
      "s -> s7\\20200417_220356.jpg\n",
      "j -> j8\\20200417_220358.jpg\n",
      "True\n",
      "-----------------------------------------------------------------------------------\n",
      "s -> s7\\20200417_220413.jpg\n",
      "j -> j8\\20200417_220416.jpg\n",
      "s -> s7\\20200417_220428.jpg\n",
      "j -> j8\\20200417_220429.jpg\n",
      "True\n",
      "-----------------------------------------------------------------------------------\n",
      "s -> s7\\20200417_220442.jpg\n",
      "j -> j8\\20200417_220444.jpg\n",
      "s -> s7\\20200417_220458.jpg\n",
      "j -> j8\\20200417_220500.jpg\n",
      "True\n",
      "-----------------------------------------------------------------------------------\n",
      "s -> s7\\20200417_220522.jpg\n",
      "j -> j8\\20200417_220523.jpg\n",
      "True\n",
      "-----------------------------------------------------------------------------------\n",
      "s -> s7\\20200417_220536.jpg\n",
      "j -> j8\\20200417_220538.jpg\n",
      "s -> s7\\20200417_220545.jpg\n",
      "j -> j8\\20200417_220547.jpg\n",
      "True\n",
      "-----------------------------------------------------------------------------------\n",
      "s -> s7\\20200417_220555.jpg\n",
      "j -> j8\\20200417_220556.jpg\n",
      "s -> s7\\20200417_220626.jpg\n",
      "j -> j8\\20200417_220627.jpg\n",
      "s -> s7\\20200417_220636.jpg\n",
      "j -> j8\\20200417_220638.jpg\n",
      "s -> s7\\20200417_220657.jpg\n",
      "j -> j8\\20200417_220658.jpg\n"
     ]
    }
   ],
   "source": [
    "# This block finds object points and image points in both camera images, these are needed for cv.stereoCalibrate()\n",
    "#-------------------------------------------------------------------------------------\n",
    "# termination criteria\n",
    "criteria = (cv.TERM_CRITERIA_EPS + cv.TERM_CRITERIA_MAX_ITER, 30, 0.001)\n",
    "# prepare object points, like (0,0,0), (1,0,0), (2,0,0) ....,(6,5,0)\n",
    "objp = np.zeros((9*6,3), np.float32)\n",
    "objp[:,:2] = np.mgrid[0:9,0:6].T.reshape(-1,2)\n",
    "# Arrays to store object points and image points from all the images.\n",
    "objpoints = [] # 3d point in real world space\n",
    "imgpointss = [] # 2d points in image plane.\n",
    "imgpointsj = [] # 2d points in image plane.\n",
    "# Change the directory to a folder that have two folders(each folder should have images fo a camera)\n",
    "%cd \"C:\\Users\\Ahmed Wagih\\Desktop\\wedTry\\calib\"\n",
    "# change \"s7\" and \"j8\" to be the names of the folders that contain images of each camera\n",
    "imagess = glob.glob(\"s7\\*.jpg\")\n",
    "imagesj = glob.glob(\"j8\\*.jpg\")\n",
    "# two arrays to hold the names of good pictures from both Cams\n",
    "fnamesAr = [] # file names of s that are true\n",
    "fnamejAr = [] # file names of j that are true\n",
    "# loop on each image\n",
    "for (fnames, fnamej) in zip(imagess, imagesj):\n",
    "    print(\"s -> \"+ fnames)\n",
    "    print(\"j -> \"+ fnamej)\n",
    "    # Read images\n",
    "    imgss = cv.imread(fnames)\n",
    "    imgsj = cv.imread(fnamej)\n",
    "    # convert to gray\n",
    "    grays = cv.cvtColor(imgss, cv.COLOR_BGR2GRAY)\n",
    "    grayj = cv.cvtColor(imgsj, cv.COLOR_BGR2GRAY)\n",
    "    # Find the chess board corners\n",
    "    rets, cornerss = cv.findChessboardCorners(grays, (9,6), None)\n",
    "    retj, cornersj = cv.findChessboardCorners(grayj, (9,6), None)\n",
    "    # If found, add object points, image points (after refining them)\n",
    "    if rets == True and retj == True:\n",
    "        print(\"True\")\n",
    "        fnamesAr.append(fnames)\n",
    "        fnamejAr.append(fnamej)\n",
    "        objpoints.append(objp)\n",
    "        imgpointss.append(cornerss)\n",
    "        imgpointsj.append(cornersj)\n",
    "        print(\"-----------------------------------------------------------------------------------\")\n",
    "cv.destroyAllWindows()"
   ]
  },
  {
   "cell_type": "code",
   "execution_count": 79,
   "metadata": {},
   "outputs": [],
   "source": [
    "# save the output data in a file\n",
    "fil = open(\"stereoImagesData.txt\", \"a\")\n",
    "fil.write(\"fnamesAr is \" + str(fnamesAr) + \"\\n\\n\\n\")\n",
    "fil.write(\"fnamejAr is \" + str(fnamejAr) + \"\\n\\n\\n\")\n",
    "fil.write(\"objpoints is \" + str(objpoints) + \"\\n\\n\\n\")\n",
    "fil.write(\"imgpointss is \" + str(imgpointss) + \"\\n\\n\\n\")\n",
    "fil.write(\"imgpointsj is \" + str(imgpointsj) + \"\\n\\n\\n\")\n",
    "fil.close()"
   ]
  },
  {
   "cell_type": "code",
   "execution_count": 5,
   "metadata": {},
   "outputs": [
    {
     "name": "stdout",
     "output_type": "stream",
     "text": [
      "[[ 0.07325807 -0.51734651  0.00242078  0.01843635  0.68931158]]\n"
     ]
    }
   ],
   "source": [
    "# Data here can be retrieved from github file camera params, these were calculated previously using \"Calibrate-Cam.ipynb\"\n",
    "\n",
    "camMats = np.array([[2.80774228e+03, 0.00000000e+00, 2.10378410e+03],\n",
    "                    [0.00000000e+00, 2.80883263e+03, 1.62033177e+03],\n",
    "                    [0.00000000e+00, 0.00000000e+00, 1.00000000e+00]])\n",
    "distCoeffss = np.array([[-0.12953256,  0.20065338,  0.00661181,  0.00732438,  0.09754305]])\n",
    "\n",
    "camMatj = np.array([[3.21633266e+03, 0.00000000e+00, 2.44700710e+03],\n",
    "            [0.00000000e+00, 3.21720389e+03, 1.69378545e+03],\n",
    "            [0.00000000e+00, 0.00000000e+00, 1.00000000e+00]])\n",
    "distCoeffsj = np.array([[ 0.07325807, -0.51734651,  0.00242078,  0.01843635,  0.68931158]])"
   ]
  },
  {
   "cell_type": "code",
   "execution_count": 65,
   "metadata": {},
   "outputs": [
    {
     "name": "stdout",
     "output_type": "stream",
     "text": [
      "[[ 0.32197184]\n",
      " [-3.71658705]\n",
      " [ 0.85354884]]\n"
     ]
    },
    {
     "data": {
      "text/plain": [
       "'\\n\\n                                        \\n'"
      ]
     },
     "execution_count": 65,
     "metadata": {},
     "output_type": "execute_result"
    }
   ],
   "source": [
    "# Get the R & T of the stereo setup, these are needed for cv.stereoRectify()\n",
    "imageSize=(3024, 4032)\n",
    "retval, cameraMatrix1, distCoeffs1, cameraMatrix2, distCoeffs2, R, T, E, F = cv.stereoCalibrate(objectPoints=objpoints,\n",
    "                                        imagePoints1=imgpointss, imagePoints2=imgpointsj,\n",
    "                                        cameraMatrix1=camMats, distCoeffs1=distCoeffss,\n",
    "                                        cameraMatrix2=camMatj, distCoeffs2=distCoeffsj,\n",
    "                                        imageSize=imageSize, flags=cv.CALIB_FIX_INTRINSIC)"
   ]
  },
  {
   "cell_type": "code",
   "execution_count": 78,
   "metadata": {},
   "outputs": [
    {
     "name": "stdout",
     "output_type": "stream",
     "text": [
      "[[3.42255206e+03 0.00000000e+00 2.22442541e+03 0.00000000e+00]\n",
      " [0.00000000e+00 3.42255206e+03 2.21246651e+03 0.00000000e+00]\n",
      " [0.00000000e+00 0.00000000e+00 1.00000000e+00 0.00000000e+00]]\n"
     ]
    },
    {
     "data": {
      "text/plain": [
       "'\\n#kjdlsamk\\n= cv.stereoRectify(cameraMatrix1, cameraMatrix2,\\n                                                                distCoeffs1, distCoeffs2,\\n                                                                imageSize, R, T,\\n                                                                flags=CV_CALIB_ZERO_DISPARITY,\\n                                                                alpha=-1, newImageSize=(3024, 4032)) \\n                                                                '"
      ]
     },
     "execution_count": 78,
     "metadata": {},
     "output_type": "execute_result"
    }
   ],
   "source": [
    "# add comment here\n",
    "R1, R2, P1, P2, Q, validPixROI1, validPixROI2 = cv.stereoRectify(cameraMatrix1, distCoeffs1,\n",
    "                                                                 cameraMatrix2, distCoeffs2,\n",
    "                                                                 imageSize, R, T)"
   ]
  },
  {
   "cell_type": "code",
   "execution_count": null,
   "metadata": {},
   "outputs": [],
   "source": []
  }
 ],
 "metadata": {
  "kernelspec": {
   "display_name": "Python 3",
   "language": "python",
   "name": "python3"
  },
  "language_info": {
   "codemirror_mode": {
    "name": "ipython",
    "version": 3
   },
   "file_extension": ".py",
   "mimetype": "text/x-python",
   "name": "python",
   "nbconvert_exporter": "python",
   "pygments_lexer": "ipython3",
   "version": "3.7.7"
  }
 },
 "nbformat": 4,
 "nbformat_minor": 4
}
